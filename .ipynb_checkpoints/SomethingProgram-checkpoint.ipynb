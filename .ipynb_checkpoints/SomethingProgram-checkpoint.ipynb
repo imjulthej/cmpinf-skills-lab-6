{
 "cells": [
  {
   "cell_type": "code",
   "execution_count": 1,
   "id": "c5900ea8-ac68-4712-b9f9-2572800a87b9",
   "metadata": {},
   "outputs": [
    {
     "name": "stdin",
     "output_type": "stream",
     "text": [
      "What is the total of your bill?  100\n",
      "What would you rate your meal on a scale of 1-10?  10\n"
     ]
    },
    {
     "name": "stdout",
     "output_type": "stream",
     "text": [
      "Your tip will be $20.0 and your total cost with tip is $120.0.\n"
     ]
    }
   ],
   "source": [
    "total_cost = float(input(\"What is the total of your bill? \"))\n",
    "rating = int(input(\"What would you rate your meal on a scale of 1-10? \"))\n",
    "\n",
    "if rating >= 8:\n",
    "    tip = total_cost * 0.2\n",
    "elif rating >= 6:\n",
    "    tip = total_cost * 0.15\n",
    "elif rating >= 4:\n",
    "    tip = total_cost * 0.1\n",
    "elif rating >= 0:\n",
    "    tip = total_cost * 0.05\n",
    "else:\n",
    "    print(\"That's not between 1-10, silly!\")\n",
    "print(f\"Your tip will be ${tip} and your total cost with tip is ${total_cost + tip}.\")"
   ]
  },
  {
   "cell_type": "code",
   "execution_count": null,
   "id": "40b979ad-da0f-48b3-a3e7-8fb8686f1c5c",
   "metadata": {},
   "outputs": [],
   "source": []
  }
 ],
 "metadata": {
  "kernelspec": {
   "display_name": "Python 3 (ipykernel)",
   "language": "python",
   "name": "python3"
  },
  "language_info": {
   "codemirror_mode": {
    "name": "ipython",
    "version": 3
   },
   "file_extension": ".py",
   "mimetype": "text/x-python",
   "name": "python",
   "nbconvert_exporter": "python",
   "pygments_lexer": "ipython3",
   "version": "3.12.4"
  }
 },
 "nbformat": 4,
 "nbformat_minor": 5
}
